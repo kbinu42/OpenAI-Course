{
 "cells": [
  {
   "cell_type": "code",
   "execution_count": null,
   "id": "39d7ac80",
   "metadata": {},
   "outputs": [],
   "source": [
    "import openai"
   ]
  },
  {
   "cell_type": "code",
   "execution_count": null,
   "id": "96de38cc",
   "metadata": {},
   "outputs": [],
   "source": [
    "from dotenv import dotenv_values"
   ]
  },
  {
   "cell_type": "code",
   "execution_count": null,
   "id": "3b630436",
   "metadata": {},
   "outputs": [],
   "source": [
    "config = dotenv_values(\".env\")"
   ]
  },
  {
   "cell_type": "code",
   "execution_count": null,
   "id": "b3cb65c7",
   "metadata": {},
   "outputs": [],
   "source": [
    "openai.api_key = config[\"OPENAI_API_KEY\"]"
   ]
  },
  {
   "cell_type": "code",
   "execution_count": null,
   "id": "21332eb6",
   "metadata": {},
   "outputs": [],
   "source": [
    "import textwrap"
   ]
  },
  {
   "cell_type": "code",
   "execution_count": null,
   "id": "def7a5ab",
   "metadata": {},
   "outputs": [],
   "source": [
    "def nice_print(dictionary):\n",
    "    # Setting -2 here will cause the model to repeat the same tokens over and over. Often, it will repeat the newline character ad infinitum.\n",
    "    for key, value in dictionary.items():\n",
    "        wrapped_text = \"\\n\".join(textwrap.wrap(value, width=120))\n",
    "        print(f\"{key}:\")\n",
    "        print(wrapped_text)\n",
    "        print(\"=\" * 120)"
   ]
  },
  {
   "cell_type": "code",
   "execution_count": null,
   "id": "1015559e",
   "metadata": {},
   "outputs": [],
   "source": [
    "# nice_print(\n",
    "#     {\n",
    "#         f\"Frequency Penalty {x}\": openai.completions.create(\n",
    "#             model=\"text-davinci-003\",\n",
    "#             prompt=\"\"\"The first 15 elements are Hydrogen, Helium,\"\"\".strip(),\n",
    "#             max_tokens=200,\n",
    "#             echo=True,\n",
    "#             frequency_penalty=x,\n",
    "#         )\n",
    "#         .choices[0][\"text\"]\n",
    "#         .strip()\n",
    "#         for x in [-2, -1, 0, 1, 2]\n",
    "#     }\n",
    "# )\n",
    "\n",
    "nice_print(\n",
    "    {\n",
    "        f\"Frequency Penalty {x}\": openai.chat.completions.create(\n",
    "            model=\"gpt-3.5-turbo\",\n",
    "            messages=[\n",
    "                {\n",
    "                    \"role\": \"user\",\n",
    "                    \"content\": \"\"\"The first 15 elements are Hydrogen, Helium,\"\"\".strip(),\n",
    "                }\n",
    "            ],\n",
    "            max_tokens=200,\n",
    "            frequency_penalty=x,\n",
    "        )\n",
    "        .choices[0]\n",
    "        .message.content.strip()\n",
    "        for x in [-2, -1, 0, 1, 2]\n",
    "    }\n",
    ")"
   ]
  },
  {
   "cell_type": "code",
   "execution_count": null,
   "id": "03c5d00e",
   "metadata": {},
   "outputs": [],
   "source": [
    "# nice_print(\n",
    "#     {\n",
    "#         f\"Presence Penalty {x}\": openai.completions.create(\n",
    "#             model=\"text-davinci-003\",\n",
    "#             prompt=\"\"\"The first 15 elements are Hydrogen, Helium,\"\"\".strip(),\n",
    "#             max_tokens=200,\n",
    "#             echo=True,\n",
    "#             presence_penalty=x,\n",
    "#         )\n",
    "#         .choices[0][\"text\"]\n",
    "#         .strip()\n",
    "#         for x in [-2, -1, 0, 1, 2]\n",
    "#     }\n",
    "# )\n",
    "\n",
    "nice_print(\n",
    "    {\n",
    "        f\"Presence Penalty {x}\": openai.chat.completions.create(\n",
    "            model=\"gpt-3.5-turbo\",\n",
    "            messages=[\n",
    "                {\n",
    "                    \"role\": \"user\",\n",
    "                    \"content\": \"\"\"The first 15 elements are Hydrogen, Helium,\"\"\".strip(),\n",
    "                }\n",
    "            ],\n",
    "            max_tokens=200,\n",
    "            presence_penalty=x,\n",
    "        )\n",
    "        .choices[0]\n",
    "        .message.content.strip()\n",
    "        for x in [-2, -1, 0, 1, 2]\n",
    "    }\n",
    ")"
   ]
  },
  {
   "cell_type": "code",
   "execution_count": null,
   "id": "ec3e0d35",
   "metadata": {},
   "outputs": [],
   "source": []
  }
 ],
 "metadata": {
  "kernelspec": {
   "display_name": "OpenAI_Course_Code-15_Whisper-3.9.4",
   "language": "python",
   "name": "openai_course_code-15_whisper-3.9.4"
  },
  "language_info": {
   "codemirror_mode": {
    "name": "ipython",
    "version": 3
   },
   "file_extension": ".py",
   "mimetype": "text/x-python",
   "name": "python",
   "nbconvert_exporter": "python",
   "pygments_lexer": "ipython3",
   "version": "3.9.4"
  }
 },
 "nbformat": 4,
 "nbformat_minor": 5
}
