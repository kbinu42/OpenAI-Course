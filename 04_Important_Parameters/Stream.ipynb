{
 "cells": [
  {
   "cell_type": "code",
   "execution_count": null,
   "id": "39d7ac80",
   "metadata": {},
   "outputs": [],
   "source": [
    "import openai"
   ]
  },
  {
   "cell_type": "code",
   "execution_count": null,
   "id": "96de38cc",
   "metadata": {},
   "outputs": [],
   "source": [
    "from dotenv import dotenv_values"
   ]
  },
  {
   "cell_type": "code",
   "execution_count": null,
   "id": "3b630436",
   "metadata": {},
   "outputs": [],
   "source": [
    "config = dotenv_values(\".env\")"
   ]
  },
  {
   "cell_type": "code",
   "execution_count": null,
   "id": "b3cb65c7",
   "metadata": {},
   "outputs": [],
   "source": [
    "openai.api_key = config[\"OPENAI_API_KEY\"]"
   ]
  },
  {
   "cell_type": "code",
   "execution_count": null,
   "id": "ec3e0d35",
   "metadata": {},
   "outputs": [],
   "source": [
    "# for data in openai.completions.create(\n",
    "#     model=\"text-davinci-003\",\n",
    "#     prompt=\"write me a poem about foggy morning commutes\",\n",
    "#     max_tokens=300,\n",
    "#     stream=True\n",
    "# ):\n",
    "#     print(data.choices[0].text, end=\"\", flush=True)\n",
    "\n",
    "for data in openai.chat.completions.create(\n",
    "    model=\"gpt-3.5-turbo\",\n",
    "    messages=[\n",
    "        {\"role\": \"user\", \"content\": \"write me a poem about foggy morning commutes\"}\n",
    "    ],\n",
    "    max_tokens=300,\n",
    "    stream=True,\n",
    "):\n",
    "    print(data.choices[0].text, end=\"\", flush=True)"
   ]
  }
 ],
 "metadata": {
  "kernelspec": {
   "display_name": "Python 3",
   "language": "python",
   "name": "python3"
  },
  "language_info": {
   "codemirror_mode": {
    "name": "ipython",
    "version": 3
   },
   "file_extension": ".py",
   "mimetype": "text/x-python",
   "name": "python",
   "nbconvert_exporter": "python",
   "pygments_lexer": "ipython3",
   "version": "3.8.8"
  }
 },
 "nbformat": 4,
 "nbformat_minor": 5
}
