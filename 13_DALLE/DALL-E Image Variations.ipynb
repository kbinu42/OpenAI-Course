{
 "cells": [
  {
   "cell_type": "code",
   "execution_count": null,
   "id": "39d7ac80",
   "metadata": {},
   "outputs": [],
   "source": [
    "import openai"
   ]
  },
  {
   "cell_type": "code",
   "execution_count": null,
   "id": "b9da91ba",
   "metadata": {},
   "outputs": [],
   "source": [
    "import os"
   ]
  },
  {
   "cell_type": "code",
   "execution_count": null,
   "id": "ebb075eb",
   "metadata": {},
   "outputs": [],
   "source": [
    "import requests"
   ]
  },
  {
   "cell_type": "code",
   "execution_count": null,
   "id": "96de38cc",
   "metadata": {},
   "outputs": [],
   "source": [
    "from dotenv import dotenv_values"
   ]
  },
  {
   "cell_type": "code",
   "execution_count": null,
   "id": "3b630436",
   "metadata": {},
   "outputs": [],
   "source": [
    "config = dotenv_values(\".env\")"
   ]
  },
  {
   "cell_type": "code",
   "execution_count": null,
   "id": "b3cb65c7",
   "metadata": {},
   "outputs": [],
   "source": [
    "openai.api_key = config[\"OPENAI_API_KEY\"]"
   ]
  },
  {
   "cell_type": "code",
   "execution_count": null,
   "id": "43f67264",
   "metadata": {},
   "outputs": [],
   "source": [
    "def save_image(url, image_name):\n",
    "    image_directory_name = \"images\"\n",
    "    image_directory = os.path.join(os.curdir, image_directory_name)\n",
    "\n",
    "    if not os.path.isdir(image_directory):\n",
    "        os.mkdir(image_directory)\n",
    "\n",
    "    image_filepath = os.path.join(image_directory, image_name)\n",
    "\n",
    "    image_content = requests.get(url).content\n",
    "\n",
    "    with open(image_filepath, \"wb\") as image_file:\n",
    "        image_file.write(image_content)"
   ]
  },
  {
   "cell_type": "code",
   "execution_count": null,
   "id": "4ff2782d",
   "metadata": {},
   "outputs": [],
   "source": [
    "def get_image(prompt, image_name):\n",
    "    res = openai.images.create(prompt=prompt, size=\"512x512\", n=1)\n",
    "    image_url = res.data[0].url\n",
    "    save_image(image_url, image_name)"
   ]
  },
  {
   "cell_type": "code",
   "execution_count": null,
   "id": "31b6c47d",
   "metadata": {},
   "outputs": [],
   "source": [
    "res = openai.images.create_variation(image=open(\"./images/popsicle.png\", \"rb\"), n=6)\n",
    "\n",
    "\n",
    "for idx, img in enumerate(res.data):\n",
    "    save_image(img[\"url\"], f\"popsicle-{idx}.png\")"
   ]
  },
  {
   "cell_type": "code",
   "execution_count": null,
   "id": "51b2dd09",
   "metadata": {},
   "outputs": [],
   "source": [
    "res"
   ]
  }
 ],
 "metadata": {
  "kernelspec": {
   "display_name": "Python 3",
   "language": "python",
   "name": "python3"
  },
  "language_info": {
   "codemirror_mode": {
    "name": "ipython",
    "version": 3
   },
   "file_extension": ".py",
   "mimetype": "text/x-python",
   "name": "python",
   "nbconvert_exporter": "python",
   "pygments_lexer": "ipython3",
   "version": "3.9.4"
  }
 },
 "nbformat": 4,
 "nbformat_minor": 5
}
