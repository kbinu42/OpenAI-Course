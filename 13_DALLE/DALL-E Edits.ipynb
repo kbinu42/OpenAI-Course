{
 "cells": [
  {
   "cell_type": "code",
   "execution_count": null,
   "id": "39d7ac80",
   "metadata": {},
   "outputs": [],
   "source": [
    "import openai"
   ]
  },
  {
   "cell_type": "code",
   "execution_count": null,
   "id": "96de38cc",
   "metadata": {},
   "outputs": [],
   "source": [
    "from dotenv import dotenv_values"
   ]
  },
  {
   "cell_type": "code",
   "execution_count": null,
   "id": "3b630436",
   "metadata": {},
   "outputs": [],
   "source": [
    "config = dotenv_values(\".env\")"
   ]
  },
  {
   "cell_type": "code",
   "execution_count": null,
   "id": "b3cb65c7",
   "metadata": {},
   "outputs": [],
   "source": [
    "openai.api_key = config[\"OPENAI_API_KEY\"]"
   ]
  },
  {
   "cell_type": "code",
   "execution_count": null,
   "id": "afe77624",
   "metadata": {},
   "outputs": [],
   "source": [
    "from IPython.core.display import Image"
   ]
  },
  {
   "cell_type": "code",
   "execution_count": null,
   "id": "5c801524",
   "metadata": {},
   "outputs": [],
   "source": [
    "wave_image = open(\"./images/great_wave.png\", \"rb\").read()"
   ]
  },
  {
   "cell_type": "code",
   "execution_count": null,
   "id": "08a666af",
   "metadata": {},
   "outputs": [],
   "source": [
    "Image(data=wave_image, width=256)"
   ]
  },
  {
   "cell_type": "code",
   "execution_count": null,
   "id": "19eaed85",
   "metadata": {},
   "outputs": [],
   "source": [
    "wave_image_mask = open(\"./images/great_wave_mask.png\", \"rb\").read()"
   ]
  },
  {
   "cell_type": "code",
   "execution_count": null,
   "id": "51d3db02",
   "metadata": {},
   "outputs": [],
   "source": [
    "Image(data=wave_image_mask, width=256)"
   ]
  },
  {
   "cell_type": "code",
   "execution_count": null,
   "id": "5f756e4e",
   "metadata": {},
   "outputs": [],
   "source": [
    "response = openai.images.edit(\n",
    "    image=wave_image,\n",
    "    mask=wave_image_mask,\n",
    "    prompt=\"a surfer riding a surfboard down the Great Wave\",\n",
    "    n=1,\n",
    "    size=\"1024x1024\",\n",
    ")"
   ]
  },
  {
   "cell_type": "code",
   "execution_count": null,
   "id": "75ebc613",
   "metadata": {},
   "outputs": [],
   "source": [
    "Image(url=response.data[0].url)"
   ]
  }
 ],
 "metadata": {
  "kernelspec": {
   "display_name": "Python 3",
   "language": "python",
   "name": "python3"
  },
  "language_info": {
   "codemirror_mode": {
    "name": "ipython",
    "version": 3
   },
   "file_extension": ".py",
   "mimetype": "text/x-python",
   "name": "python",
   "nbconvert_exporter": "python",
   "pygments_lexer": "ipython3",
   "version": "3.9.4"
  }
 },
 "nbformat": 4,
 "nbformat_minor": 5
}
