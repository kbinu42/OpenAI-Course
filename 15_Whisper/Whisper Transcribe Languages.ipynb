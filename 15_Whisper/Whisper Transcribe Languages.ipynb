{
 "cells": [
  {
   "cell_type": "code",
   "execution_count": null,
   "id": "39d7ac80",
   "metadata": {},
   "outputs": [],
   "source": [
    "import openai"
   ]
  },
  {
   "cell_type": "code",
   "execution_count": null,
   "id": "96de38cc",
   "metadata": {},
   "outputs": [],
   "source": [
    "from dotenv import dotenv_values"
   ]
  },
  {
   "cell_type": "code",
   "execution_count": null,
   "id": "3b630436",
   "metadata": {},
   "outputs": [],
   "source": [
    "config = dotenv_values(\".env\")"
   ]
  },
  {
   "cell_type": "code",
   "execution_count": null,
   "id": "b3cb65c7",
   "metadata": {},
   "outputs": [],
   "source": [
    "openai.api_key = config[\"OPENAI_API_KEY\"]"
   ]
  },
  {
   "cell_type": "code",
   "execution_count": null,
   "id": "11746170",
   "metadata": {},
   "outputs": [],
   "source": [
    "# Record Some audio\n",
    "\n",
    "import wave\n",
    "import sys\n",
    "import pyaudio\n",
    "\n",
    "CHUNK = 1024\n",
    "FORMAT = pyaudio.paInt16\n",
    "CHANNELS = 1 if sys.platform == \"darwin\" else 2\n",
    "RATE = 44100\n",
    "\n",
    "\n",
    "def record_audio(seconds: int, filename: str):\n",
    "    output_path = f\"./audio/{filename}\"\n",
    "    with wave.open(output_path, \"wb\") as wf:\n",
    "        p = pyaudio.PyAudio()\n",
    "        wf.setnchannels(CHANNELS)\n",
    "        wf.setsampwidth(p.get_sample_size(FORMAT))\n",
    "        wf.setframerate(RATE)\n",
    "\n",
    "        stream = p.open(format=FORMAT, channels=CHANNELS, rate=RATE, input=True)\n",
    "\n",
    "        print(\"Recording...\")\n",
    "        for index in range(0, RATE // CHUNK * seconds):\n",
    "            if index % (RATE // CHUNK) == 0:\n",
    "                print(f\"{index // (RATE // CHUNK)} / {seconds}s\")\n",
    "            wf.writeframes(stream.read(CHUNK))\n",
    "        print(\"Done\")\n",
    "\n",
    "        stream.close()\n",
    "        p.terminate()\n",
    "    print(f\"File saved at {output_path}\")\n",
    "    return output_path"
   ]
  },
  {
   "cell_type": "code",
   "execution_count": null,
   "id": "9f7cbe12",
   "metadata": {},
   "outputs": [],
   "source": [
    "record_audio(5, \"french.wav\")"
   ]
  },
  {
   "cell_type": "code",
   "execution_count": null,
   "id": "e6ce2120",
   "metadata": {},
   "outputs": [],
   "source": [
    "french_file = open(\"./audio/french.wav\", \"rb\")"
   ]
  },
  {
   "cell_type": "code",
   "execution_count": null,
   "id": "d9a80031",
   "metadata": {},
   "outputs": [],
   "source": [
    "french_response = openai.audio.transcriptions.create(\n",
    "    model=\"whisper-1\", file=french_file\n",
    ")"
   ]
  },
  {
   "cell_type": "code",
   "execution_count": null,
   "id": "025ac1f5",
   "metadata": {},
   "outputs": [],
   "source": [
    "french_response"
   ]
  },
  {
   "cell_type": "code",
   "execution_count": null,
   "id": "b3d7b1e1",
   "metadata": {},
   "outputs": [],
   "source": [
    "italian_news = open(\"./audio/italian_news.wav\", \"rb\")"
   ]
  },
  {
   "cell_type": "code",
   "execution_count": null,
   "id": "699125bb",
   "metadata": {},
   "outputs": [],
   "source": [
    "italian_response = openai.audio.transcriptions.create(\n",
    "    model=\"whisper-1\", file=italian_news\n",
    ")"
   ]
  },
  {
   "cell_type": "code",
   "execution_count": null,
   "id": "c7f3a7bb",
   "metadata": {},
   "outputs": [],
   "source": [
    "italian_response"
   ]
  },
  {
   "cell_type": "code",
   "execution_count": null,
   "id": "05fe0585",
   "metadata": {},
   "outputs": [],
   "source": []
  }
 ],
 "metadata": {
  "kernelspec": {
   "display_name": "Python 3",
   "language": "python",
   "name": "python3"
  },
  "language_info": {
   "codemirror_mode": {
    "name": "ipython",
    "version": 3
   },
   "file_extension": ".py",
   "mimetype": "text/x-python",
   "name": "python",
   "nbconvert_exporter": "python",
   "pygments_lexer": "ipython3",
   "version": "3.10.9"
  }
 },
 "nbformat": 4,
 "nbformat_minor": 5
}
